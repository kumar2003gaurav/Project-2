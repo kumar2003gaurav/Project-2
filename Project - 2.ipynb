{
 "cells": [
  {
   "cell_type": "code",
   "execution_count": 2,
   "id": "e6867ba0",
   "metadata": {},
   "outputs": [],
   "source": [
    "#1.Card Class"
   ]
  },
  {
   "cell_type": "code",
   "execution_count": 3,
   "id": "443f1932",
   "metadata": {},
   "outputs": [],
   "source": [
    "suits = ('Hearts','Diamonds','Spades','Clubs')\n",
    "ranks = ('Two','Three','Four','Five','Six','Seven','Eight','Nine','Ten','Jack','Queen','King','Ace')\n",
    "values = {'Two':2,'Three':3,'Four':4,'Five':5,'Six':6,'Seven':7,'Eight':8,'Nine':9,'Ten':10,'Jack':11,'Queen':12,'King':13,'Ace':14}"
   ]
  },
  {
   "cell_type": "code",
   "execution_count": 4,
   "id": "13350016",
   "metadata": {},
   "outputs": [],
   "source": [
    "class Card():\n",
    "    def __init__(self,suit,rank):\n",
    "        self.suit = suit\n",
    "        self.rank = rank\n",
    "        self.value = values[rank]\n",
    "    \n",
    "    def __str__(self):\n",
    "        return self.rank + \" of \" + self.suit"
   ]
  },
  {
   "cell_type": "code",
   "execution_count": 5,
   "id": "a3456eb4",
   "metadata": {},
   "outputs": [],
   "source": [
    "mycard = Card('Hearts','Two')"
   ]
  },
  {
   "cell_type": "code",
   "execution_count": 6,
   "id": "873318d6",
   "metadata": {},
   "outputs": [
    {
     "data": {
      "text/plain": [
       "'Two'"
      ]
     },
     "execution_count": 6,
     "metadata": {},
     "output_type": "execute_result"
    }
   ],
   "source": [
    "mycard.rank"
   ]
  },
  {
   "cell_type": "code",
   "execution_count": 7,
   "id": "2c48d7ac",
   "metadata": {},
   "outputs": [
    {
     "name": "stdout",
     "output_type": "stream",
     "text": [
      "Two of Hearts\n"
     ]
    }
   ],
   "source": [
    "print(mycard)"
   ]
  },
  {
   "cell_type": "code",
   "execution_count": 8,
   "id": "4c45bee5",
   "metadata": {},
   "outputs": [
    {
     "data": {
      "text/plain": [
       "2"
      ]
     },
     "execution_count": 8,
     "metadata": {},
     "output_type": "execute_result"
    }
   ],
   "source": [
    "mycard.value"
   ]
  },
  {
   "cell_type": "code",
   "execution_count": 9,
   "id": "906d01ed",
   "metadata": {},
   "outputs": [],
   "source": [
    "import random"
   ]
  },
  {
   "cell_type": "code",
   "execution_count": 10,
   "id": "687bbc4f",
   "metadata": {},
   "outputs": [],
   "source": [
    "# 2. Deck Class"
   ]
  },
  {
   "cell_type": "code",
   "execution_count": 11,
   "id": "8c08883f",
   "metadata": {},
   "outputs": [],
   "source": [
    "class Deck():\n",
    "    def __init__(self):\n",
    "        self.all_cards = []\n",
    "        for suit in suits:\n",
    "            for rank in ranks :\n",
    "                created_cards = Card(suit,rank)\n",
    "                self.all_cards.append(created_cards)\n",
    "                \n",
    "    def shuffle(self):\n",
    "        random.shuffle(self.all_cards)\n",
    "    \n",
    "    def deal_one(self):\n",
    "        return self.all_cards.pop()\n",
    "        "
   ]
  },
  {
   "cell_type": "code",
   "execution_count": 12,
   "id": "ecd09627",
   "metadata": {},
   "outputs": [],
   "source": [
    "new_deck = Deck()"
   ]
  },
  {
   "cell_type": "code",
   "execution_count": 13,
   "id": "774fed4d",
   "metadata": {},
   "outputs": [
    {
     "data": {
      "text/plain": [
       "<__main__.Card at 0x2168672f6d0>"
      ]
     },
     "execution_count": 13,
     "metadata": {},
     "output_type": "execute_result"
    }
   ],
   "source": [
    "new_deck.all_cards[0]"
   ]
  },
  {
   "cell_type": "code",
   "execution_count": 14,
   "id": "fd2e5a42",
   "metadata": {},
   "outputs": [
    {
     "name": "stdout",
     "output_type": "stream",
     "text": [
      "Two of Hearts\n",
      "Three of Hearts\n",
      "Four of Hearts\n",
      "Five of Hearts\n",
      "Six of Hearts\n",
      "Seven of Hearts\n",
      "Eight of Hearts\n",
      "Nine of Hearts\n",
      "Ten of Hearts\n",
      "Jack of Hearts\n",
      "Queen of Hearts\n",
      "King of Hearts\n",
      "Ace of Hearts\n",
      "Two of Diamonds\n",
      "Three of Diamonds\n",
      "Four of Diamonds\n",
      "Five of Diamonds\n",
      "Six of Diamonds\n",
      "Seven of Diamonds\n",
      "Eight of Diamonds\n",
      "Nine of Diamonds\n",
      "Ten of Diamonds\n",
      "Jack of Diamonds\n",
      "Queen of Diamonds\n",
      "King of Diamonds\n",
      "Ace of Diamonds\n",
      "Two of Spades\n",
      "Three of Spades\n",
      "Four of Spades\n",
      "Five of Spades\n",
      "Six of Spades\n",
      "Seven of Spades\n",
      "Eight of Spades\n",
      "Nine of Spades\n",
      "Ten of Spades\n",
      "Jack of Spades\n",
      "Queen of Spades\n",
      "King of Spades\n",
      "Ace of Spades\n",
      "Two of Clubs\n",
      "Three of Clubs\n",
      "Four of Clubs\n",
      "Five of Clubs\n",
      "Six of Clubs\n",
      "Seven of Clubs\n",
      "Eight of Clubs\n",
      "Nine of Clubs\n",
      "Ten of Clubs\n",
      "Jack of Clubs\n",
      "Queen of Clubs\n",
      "King of Clubs\n",
      "Ace of Clubs\n"
     ]
    }
   ],
   "source": [
    "for card in new_deck.all_cards:\n",
    "    print(card)"
   ]
  },
  {
   "cell_type": "code",
   "execution_count": 15,
   "id": "866d4cb7",
   "metadata": {},
   "outputs": [],
   "source": [
    "new_deck.shuffle()"
   ]
  },
  {
   "cell_type": "code",
   "execution_count": 16,
   "id": "a8a67cd3",
   "metadata": {},
   "outputs": [
    {
     "name": "stdout",
     "output_type": "stream",
     "text": [
      "Ten of Diamonds\n"
     ]
    }
   ],
   "source": [
    "print(new_deck.all_cards[0])"
   ]
  },
  {
   "cell_type": "code",
   "execution_count": 17,
   "id": "0fdccf56",
   "metadata": {},
   "outputs": [
    {
     "name": "stdout",
     "output_type": "stream",
     "text": [
      "Ten of Clubs\n"
     ]
    }
   ],
   "source": [
    "print(new_deck.deal_one())"
   ]
  },
  {
   "cell_type": "code",
   "execution_count": 18,
   "id": "2227e82a",
   "metadata": {},
   "outputs": [],
   "source": [
    "class Player():\n",
    "    def __init__(self,name):\n",
    "        self.name = name \n",
    "        self.all_cards = []\n",
    "    def remove_one(self):\n",
    "        return self.all_cards.pop(0)\n",
    "    def add_cards (self,new_cards):\n",
    "        if type(new_cards) == type([]):\n",
    "            self.all_cards.extend(new_cards)\n",
    "        else:\n",
    "            self.all_cards.append(new_cards)\n",
    "    def __str__(self):\n",
    "        return f\"Player {self.name} has {len(self.all_cards)} cards.\""
   ]
  },
  {
   "cell_type": "code",
   "execution_count": 19,
   "id": "97aed98e",
   "metadata": {},
   "outputs": [],
   "source": [
    "new_player = Player('Gaurav')"
   ]
  },
  {
   "cell_type": "code",
   "execution_count": 20,
   "id": "10d01bd0",
   "metadata": {},
   "outputs": [
    {
     "name": "stdout",
     "output_type": "stream",
     "text": [
      "Player Gaurav has 0 cards.\n"
     ]
    }
   ],
   "source": [
    "print(new_player)"
   ]
  },
  {
   "cell_type": "code",
   "execution_count": 21,
   "id": "7e78e209",
   "metadata": {},
   "outputs": [],
   "source": [
    "new_player.add_cards(mycard)"
   ]
  },
  {
   "cell_type": "code",
   "execution_count": 22,
   "id": "1d4c7fa9",
   "metadata": {},
   "outputs": [
    {
     "name": "stdout",
     "output_type": "stream",
     "text": [
      "Player Gaurav has 1 cards.\n"
     ]
    }
   ],
   "source": [
    "print(new_player)"
   ]
  },
  {
   "cell_type": "code",
   "execution_count": 23,
   "id": "42f87c6e",
   "metadata": {},
   "outputs": [],
   "source": [
    "#Step 4: Game's Logic"
   ]
  },
  {
   "cell_type": "code",
   "execution_count": 24,
   "id": "f40f0738",
   "metadata": {},
   "outputs": [],
   "source": [
    "#Game Setup\n",
    "player_one = Player('One')\n",
    "player_two = Player('Two')\n",
    "\n",
    "new_deck = Deck()\n",
    "new_deck.shuffle()\n",
    "\n",
    "\n",
    "for x in range(26):\n",
    "    player_one.add_cards(new_deck.deal_one())\n",
    "    player_two.add_cards(new_deck.deal_one())\n",
    "    "
   ]
  },
  {
   "cell_type": "code",
   "execution_count": 25,
   "id": "cf715ea6",
   "metadata": {},
   "outputs": [
    {
     "data": {
      "text/plain": [
       "26"
      ]
     },
     "execution_count": 25,
     "metadata": {},
     "output_type": "execute_result"
    }
   ],
   "source": [
    "len(player_one.all_cards)"
   ]
  },
  {
   "cell_type": "code",
   "execution_count": 26,
   "id": "823ce8a5",
   "metadata": {},
   "outputs": [
    {
     "name": "stdout",
     "output_type": "stream",
     "text": [
      "Ace of Spades\n"
     ]
    }
   ],
   "source": [
    "print(player_one.all_cards[0])"
   ]
  },
  {
   "cell_type": "code",
   "execution_count": 27,
   "id": "6fa6e033",
   "metadata": {},
   "outputs": [],
   "source": [
    "game_on = True"
   ]
  },
  {
   "cell_type": "code",
   "execution_count": 28,
   "id": "e5997c81",
   "metadata": {},
   "outputs": [
    {
     "name": "stdout",
     "output_type": "stream",
     "text": [
      "Round 1\n",
      "Round 2\n",
      "Round 3\n",
      "Round 4\n",
      "Round 5\n",
      "Round 6\n",
      "Round 7\n",
      "WAR!\n",
      "Round 8\n",
      "WAR!\n",
      "Round 9\n",
      "Round 10\n",
      "Round 11\n",
      "Round 12\n",
      "Round 13\n",
      "Round 14\n",
      "Round 15\n",
      "Round 16\n",
      "Round 17\n",
      "Round 18\n",
      "Round 19\n",
      "Round 20\n",
      "Round 21\n",
      "Round 22\n",
      "Round 23\n",
      "Round 24\n",
      "Round 25\n",
      "Round 26\n",
      "Round 27\n",
      "Round 28\n",
      "Round 29\n",
      "Round 30\n",
      "Round 31\n",
      "Round 32\n",
      "Round 33\n",
      "Round 34\n",
      "Round 35\n",
      "Round 36\n",
      "Round 37\n",
      "Round 38\n",
      "Round 39\n",
      "Round 40\n",
      "Round 41\n",
      "Round 42\n",
      "Round 43\n",
      "WAR!\n",
      "WAR!\n",
      "Player One unable to play war! Game Over at War\n",
      "Player Two Wins! Player One Loses!\n"
     ]
    }
   ],
   "source": [
    "round_num = 0\n",
    "while game_on:\n",
    "    \n",
    "    round_num += 1\n",
    "    print(f\"Round {round_num}\")\n",
    "    \n",
    "    # Check to see if a player is out of cards:\n",
    "    if len(player_one.all_cards) == 0:\n",
    "        print(\"Player One out of cards! Game Over\")\n",
    "        print(\"Player Two Wins!\")\n",
    "        game_on = False\n",
    "        break\n",
    "        \n",
    "    if len(player_two.all_cards) == 0:\n",
    "        print(\"Player Two out of cards! Game Over\")\n",
    "        print(\"Player One Wins!\")\n",
    "        game_on = False\n",
    "        break\n",
    "    \n",
    "    # Otherwise, the game is still on!\n",
    "    \n",
    "    # Start a new round and reset current cards \"on the table\"\n",
    "    player_one_cards = []\n",
    "    player_one_cards.append(player_one.remove_one())\n",
    "    \n",
    "    player_two_cards = []\n",
    "    player_two_cards.append(player_two.remove_one())\n",
    "    \n",
    "    at_war = True\n",
    "\n",
    "    while at_war:\n",
    "\n",
    "\n",
    "        if player_one_cards[-1].value > player_two_cards[-1].value:\n",
    "\n",
    "            # Player One gets the cards\n",
    "            player_one.add_cards(player_one_cards)\n",
    "            player_one.add_cards(player_two_cards)\n",
    "            \n",
    "            \n",
    "            # No Longer at \"war\" , time for next round\n",
    "            at_war = False\n",
    "        \n",
    "        # Player Two Has higher Card\n",
    "        elif player_one_cards[-1].value < player_two_cards[-1].value:\n",
    "\n",
    "            # Player Two gets the cards\n",
    "            player_two.add_cards(player_one_cards)\n",
    "            player_two.add_cards(player_two_cards)\n",
    "            \n",
    "            # No Longer at \"war\" , time for next round\n",
    "            at_war = False\n",
    "\n",
    "        else:\n",
    "            print('WAR!')\n",
    "            # This occurs when the cards are equal.\n",
    "            # We'll grab another card each and continue the current war.\n",
    "            \n",
    "            # First check to see if player has enough cards\n",
    "            \n",
    "            # Check to see if a player is out of cards:\n",
    "            if len(player_one.all_cards) < 5:\n",
    "                print(\"Player One unable to play war! Game Over at War\")\n",
    "                print(\"Player Two Wins! Player One Loses!\")\n",
    "                game_on = False\n",
    "                break\n",
    "\n",
    "            elif len(player_two.all_cards) < 5:\n",
    "                print(\"Player Two unable to play war! Game Over at War\")\n",
    "                print(\"Player One Wins! Player One Loses!\")\n",
    "                game_on = False\n",
    "                break\n",
    "            # Otherwise, we're still at war, so we'll add the next cards\n",
    "            else:\n",
    "                for num in range(5):\n",
    "                    player_one_cards.append(player_one.remove_one())\n",
    "                    player_two_cards.append(player_two.remove_one())\n",
    "        "
   ]
  },
  {
   "cell_type": "code",
   "execution_count": 3,
   "id": "ab86171b",
   "metadata": {},
   "outputs": [],
   "source": [
    "suits = ('Hearts','Diamonds','Spades','Clubs')\n",
    "ranks = ('Two','Three','Four','Five','Six','Seven','Eight','Nine','Ten','Jack','Queen','King','Ace')\n",
    "values = {'Two':2,'Three':3,'Four':4,'Five':5,'Six':6,'Seven':7,'Eight':8,'Nine':9,'Ten':10,'Jack':11,'Queen':12,'King':13,'Ace':14}"
   ]
  },
  {
   "cell_type": "code",
   "execution_count": 4,
   "id": "1e5128f0",
   "metadata": {},
   "outputs": [],
   "source": [
    "class Card():\n",
    "    def __init__(self,suit,rank):\n",
    "        self.suit = suit \n",
    "        self.rank = rank\n",
    "        self.values = values[rank]\n",
    "    def __str__ (self):\n",
    "        return self.rank + \" of \" + self.suit\n",
    "        "
   ]
  },
  {
   "cell_type": "code",
   "execution_count": 5,
   "id": "f6b6733a",
   "metadata": {},
   "outputs": [],
   "source": [
    "mycard = Card('Hearts','Three')"
   ]
  },
  {
   "cell_type": "code",
   "execution_count": 6,
   "id": "0646c57f",
   "metadata": {},
   "outputs": [
    {
     "name": "stdout",
     "output_type": "stream",
     "text": [
      "Three of Hearts\n"
     ]
    }
   ],
   "source": [
    "print(mycard)"
   ]
  },
  {
   "cell_type": "code",
   "execution_count": 7,
   "id": "e8663e55",
   "metadata": {},
   "outputs": [
    {
     "data": {
      "text/plain": [
       "3"
      ]
     },
     "execution_count": 7,
     "metadata": {},
     "output_type": "execute_result"
    }
   ],
   "source": [
    "values['Three']"
   ]
  },
  {
   "cell_type": "code",
   "execution_count": 8,
   "id": "0b7f5e07",
   "metadata": {},
   "outputs": [
    {
     "data": {
      "text/plain": [
       "3"
      ]
     },
     "execution_count": 8,
     "metadata": {},
     "output_type": "execute_result"
    }
   ],
   "source": [
    "mycard.values"
   ]
  },
  {
   "cell_type": "code",
   "execution_count": 9,
   "id": "9f5d18d1",
   "metadata": {},
   "outputs": [
    {
     "data": {
      "text/plain": [
       "'Three'"
      ]
     },
     "execution_count": 9,
     "metadata": {},
     "output_type": "execute_result"
    }
   ],
   "source": [
    "mycard.rank"
   ]
  },
  {
   "cell_type": "code",
   "execution_count": 10,
   "id": "03df2e2a",
   "metadata": {},
   "outputs": [],
   "source": [
    "#Deck Class"
   ]
  },
  {
   "cell_type": "code",
   "execution_count": 11,
   "id": "a9a2e1bf",
   "metadata": {},
   "outputs": [],
   "source": [
    "import random"
   ]
  },
  {
   "cell_type": "code",
   "execution_count": 12,
   "id": "4a3499d1",
   "metadata": {},
   "outputs": [],
   "source": [
    "class Deck():\n",
    "    def __init__(self):\n",
    "        self.all_cards = []\n",
    "        for suit in suits:\n",
    "            for rank in ranks :\n",
    "                created_cards = Card(suit, rank)\n",
    "                self.all_cards .append(created_cards)\n",
    "                \n",
    "    def shuffle(self):\n",
    "        random.shuffle(self.all_cards)\n",
    "        \n",
    "    def deal_one(self):\n",
    "        return self.all_cards.pop()\n",
    "        "
   ]
  },
  {
   "cell_type": "code",
   "execution_count": 13,
   "id": "2639c9f8",
   "metadata": {},
   "outputs": [],
   "source": [
    "m = Deck()"
   ]
  },
  {
   "cell_type": "code",
   "execution_count": 14,
   "id": "4c6d2316",
   "metadata": {},
   "outputs": [
    {
     "data": {
      "text/plain": [
       "[<__main__.Card at 0x1ef994a0400>,\n",
       " <__main__.Card at 0x1ef994a0730>,\n",
       " <__main__.Card at 0x1ef994a0070>,\n",
       " <__main__.Card at 0x1ef994a0490>,\n",
       " <__main__.Card at 0x1ef99f9a340>,\n",
       " <__main__.Card at 0x1ef99f9af70>,\n",
       " <__main__.Card at 0x1ef99f9a8e0>,\n",
       " <__main__.Card at 0x1ef99f9a130>,\n",
       " <__main__.Card at 0x1ef99f9a0d0>,\n",
       " <__main__.Card at 0x1ef99f9a220>,\n",
       " <__main__.Card at 0x1ef99f9a5b0>,\n",
       " <__main__.Card at 0x1ef99f9a9a0>,\n",
       " <__main__.Card at 0x1ef99f9aac0>,\n",
       " <__main__.Card at 0x1ef99f9a700>,\n",
       " <__main__.Card at 0x1ef99f9a7f0>,\n",
       " <__main__.Card at 0x1ef99f9a610>,\n",
       " <__main__.Card at 0x1ef99f9ad90>,\n",
       " <__main__.Card at 0x1ef99f9ae20>,\n",
       " <__main__.Card at 0x1ef99f9a790>,\n",
       " <__main__.Card at 0x1ef99f9af10>,\n",
       " <__main__.Card at 0x1ef99f9a1c0>,\n",
       " <__main__.Card at 0x1ef99f9ac70>,\n",
       " <__main__.Card at 0x1ef99f9a7c0>,\n",
       " <__main__.Card at 0x1ef99f9a4c0>,\n",
       " <__main__.Card at 0x1ef99f9aeb0>,\n",
       " <__main__.Card at 0x1ef99f9ab20>,\n",
       " <__main__.Card at 0x1ef99f9aa60>,\n",
       " <__main__.Card at 0x1ef99f9afa0>,\n",
       " <__main__.Card at 0x1ef99f9a490>,\n",
       " <__main__.Card at 0x1ef99f9a4f0>,\n",
       " <__main__.Card at 0x1ef99f9a6d0>,\n",
       " <__main__.Card at 0x1ef99f9a040>,\n",
       " <__main__.Card at 0x1ef99f9a460>,\n",
       " <__main__.Card at 0x1ef99f9ab50>,\n",
       " <__main__.Card at 0x1ef99f9af40>,\n",
       " <__main__.Card at 0x1ef99f9ac10>,\n",
       " <__main__.Card at 0x1ef99f9a580>,\n",
       " <__main__.Card at 0x1ef99f9a730>,\n",
       " <__main__.Card at 0x1ef99f9a190>,\n",
       " <__main__.Card at 0x1ef99f9a1f0>,\n",
       " <__main__.Card at 0x1ef99f9aa30>,\n",
       " <__main__.Card at 0x1ef99f9ad00>,\n",
       " <__main__.Card at 0x1ef99f87d00>,\n",
       " <__main__.Card at 0x1ef99f87910>,\n",
       " <__main__.Card at 0x1ef99f87df0>,\n",
       " <__main__.Card at 0x1ef99f87f70>,\n",
       " <__main__.Card at 0x1ef99f87850>,\n",
       " <__main__.Card at 0x1ef99f878b0>,\n",
       " <__main__.Card at 0x1ef99f87d30>,\n",
       " <__main__.Card at 0x1ef99f87820>,\n",
       " <__main__.Card at 0x1ef99f87e20>,\n",
       " <__main__.Card at 0x1ef99f87c10>]"
      ]
     },
     "execution_count": 14,
     "metadata": {},
     "output_type": "execute_result"
    }
   ],
   "source": [
    "m.all_cards"
   ]
  },
  {
   "cell_type": "code",
   "execution_count": 15,
   "id": "95dd3276",
   "metadata": {},
   "outputs": [
    {
     "name": "stdout",
     "output_type": "stream",
     "text": [
      "Two of Hearts\n",
      "Three of Hearts\n",
      "Four of Hearts\n",
      "Five of Hearts\n",
      "Six of Hearts\n",
      "Seven of Hearts\n",
      "Eight of Hearts\n",
      "Nine of Hearts\n",
      "Ten of Hearts\n",
      "Jack of Hearts\n",
      "Queen of Hearts\n",
      "King of Hearts\n",
      "Ace of Hearts\n",
      "Two of Diamonds\n",
      "Three of Diamonds\n",
      "Four of Diamonds\n",
      "Five of Diamonds\n",
      "Six of Diamonds\n",
      "Seven of Diamonds\n",
      "Eight of Diamonds\n",
      "Nine of Diamonds\n",
      "Ten of Diamonds\n",
      "Jack of Diamonds\n",
      "Queen of Diamonds\n",
      "King of Diamonds\n",
      "Ace of Diamonds\n",
      "Two of Spades\n",
      "Three of Spades\n",
      "Four of Spades\n",
      "Five of Spades\n",
      "Six of Spades\n",
      "Seven of Spades\n",
      "Eight of Spades\n",
      "Nine of Spades\n",
      "Ten of Spades\n",
      "Jack of Spades\n",
      "Queen of Spades\n",
      "King of Spades\n",
      "Ace of Spades\n",
      "Two of Clubs\n",
      "Three of Clubs\n",
      "Four of Clubs\n",
      "Five of Clubs\n",
      "Six of Clubs\n",
      "Seven of Clubs\n",
      "Eight of Clubs\n",
      "Nine of Clubs\n",
      "Ten of Clubs\n",
      "Jack of Clubs\n",
      "Queen of Clubs\n",
      "King of Clubs\n",
      "Ace of Clubs\n"
     ]
    }
   ],
   "source": [
    "for i in m.all_cards:\n",
    "    print(i)"
   ]
  },
  {
   "cell_type": "code",
   "execution_count": 16,
   "id": "129b4a77",
   "metadata": {},
   "outputs": [],
   "source": [
    "m.shuffle()"
   ]
  },
  {
   "cell_type": "code",
   "execution_count": 17,
   "id": "3b33fcdb",
   "metadata": {},
   "outputs": [
    {
     "data": {
      "text/plain": [
       "<__main__.Card at 0x1ef99f9a610>"
      ]
     },
     "execution_count": 17,
     "metadata": {},
     "output_type": "execute_result"
    }
   ],
   "source": [
    "m.deal_one()"
   ]
  },
  {
   "cell_type": "code",
   "execution_count": 18,
   "id": "15277e78",
   "metadata": {},
   "outputs": [
    {
     "name": "stdout",
     "output_type": "stream",
     "text": [
      "<bound method Deck.deal_one of <__main__.Deck object at 0x000001EF994A0430>>\n"
     ]
    }
   ],
   "source": [
    "print(m.deal_one)"
   ]
  },
  {
   "cell_type": "code",
   "execution_count": 19,
   "id": "bd441678",
   "metadata": {},
   "outputs": [],
   "source": [
    "#Player class"
   ]
  },
  {
   "cell_type": "code",
   "execution_count": 20,
   "id": "c5860a15",
   "metadata": {},
   "outputs": [],
   "source": [
    "class Player():\n",
    "    def __init__(self,name):\n",
    "        self.name = name \n",
    "        self.all_cards = []\n",
    "        \n",
    "    def remove_one(self):\n",
    "        return self.all_cards.pop(0)\n",
    "    def add_cards(self,new_cards):\n",
    "        if type(new_cards)== type([]):\n",
    "            self.all_cards.extend(new_cards)\n",
    "        else:\n",
    "            self.all_cards.append(new_cards)\n",
    "    def __str__(self):\n",
    "        return f\"Player {self.name} has  {len(self.all_cards)} cards!\"\n",
    "        "
   ]
  },
  {
   "cell_type": "code",
   "execution_count": 21,
   "id": "92c2f6c6",
   "metadata": {},
   "outputs": [],
   "source": [
    "new_player = Player('Gaurav')"
   ]
  },
  {
   "cell_type": "code",
   "execution_count": 22,
   "id": "120a9f62",
   "metadata": {},
   "outputs": [
    {
     "name": "stdout",
     "output_type": "stream",
     "text": [
      "Player Gaurav has  0 cards!\n"
     ]
    }
   ],
   "source": [
    "print(new_player)"
   ]
  },
  {
   "cell_type": "code",
   "execution_count": 23,
   "id": "a807b140",
   "metadata": {},
   "outputs": [],
   "source": [
    "new_player.add_cards(mycard)"
   ]
  },
  {
   "cell_type": "code",
   "execution_count": 24,
   "id": "98a9ddac",
   "metadata": {},
   "outputs": [
    {
     "name": "stdout",
     "output_type": "stream",
     "text": [
      "Player Gaurav has  1 cards!\n"
     ]
    }
   ],
   "source": [
    "print(new_player)"
   ]
  },
  {
   "cell_type": "code",
   "execution_count": 25,
   "id": "f6b8fc14",
   "metadata": {},
   "outputs": [],
   "source": [
    "#Game's logic:\n"
   ]
  },
  {
   "cell_type": "code",
   "execution_count": 32,
   "id": "1371b6ec",
   "metadata": {},
   "outputs": [
    {
     "name": "stdout",
     "output_type": "stream",
     "text": [
      "Round 1 \n",
      "Round 2 \n",
      "Round 3 \n",
      "Round 4 \n",
      "Round 5 \n",
      "Round 6 \n",
      "Round 7 \n",
      "Round 8 \n",
      "Round 9 \n",
      "Round 10 \n",
      "Round 11 \n",
      "Round 12 \n",
      "Round 13 \n",
      "Round 14 \n",
      "Round 15 \n",
      "WAR\n",
      "Round 16 \n",
      "Round 17 \n",
      "Round 18 \n",
      "Round 19 \n",
      "Round 20 \n",
      "Round 21 \n",
      "Round 22 \n",
      "Round 23 \n",
      "Round 24 \n",
      "Round 25 \n",
      "Round 26 \n",
      "Round 27 \n",
      "Round 28 \n",
      "Round 29 \n",
      "Round 30 \n",
      "Round 31 \n",
      "Round 32 \n",
      "Round 33 \n",
      "Round 34 \n",
      "Round 35 \n",
      "Round 36 \n",
      "Round 37 \n",
      "Round 38 \n",
      "Round 39 \n",
      "Round 40 \n",
      "Round 41 \n",
      "Round 42 \n",
      "Round 43 \n",
      "Round 44 \n",
      "Round 45 \n",
      "Round 46 \n",
      "Round 47 \n",
      "Round 48 \n",
      "Round 49 \n",
      "Round 50 \n",
      "Round 51 \n",
      "Round 52 \n",
      "Round 53 \n",
      "Round 54 \n",
      "Round 55 \n",
      "Round 56 \n",
      "Round 57 \n",
      "WAR\n",
      "Round 58 \n",
      "Round 59 \n",
      "Round 60 \n",
      "Round 61 \n",
      "Round 62 \n",
      "Round 63 \n",
      "WAR\n",
      "Round 64 \n",
      "Round 65 \n",
      "Round 66 \n",
      "Round 67 \n",
      "Round 68 \n",
      "Round 69 \n",
      "Round 70 \n",
      "WAR\n",
      "Round 71 \n",
      "Round 72 \n",
      "Round 73 \n",
      "Round 74 \n",
      "Round 75 \n",
      "Round 76 \n",
      "Round 77 \n",
      "Round 78 \n",
      "Round 79 \n",
      "Round 80 \n",
      "Round 81 \n",
      "Round 82 \n",
      "Round 83 \n",
      "Round 84 \n",
      "Round 85 \n",
      "Round 86 \n",
      "Round 87 \n",
      "Round 88 \n",
      "Round 89 \n",
      "Round 90 \n",
      "Round 91 \n",
      "Round 92 \n",
      "Round 93 \n",
      "Round 94 \n",
      "Round 95 \n",
      "Round 96 \n",
      "Round 97 \n",
      "Round 98 \n",
      "Round 99 \n",
      "Round 100 \n",
      "Round 101 \n",
      "Round 102 \n",
      "Round 103 \n",
      "Round 104 \n",
      "Round 105 \n",
      "Round 106 \n",
      "Round 107 \n",
      "Round 108 \n",
      "Round 109 \n",
      "Round 110 \n",
      "WAR\n",
      "PLayer one unable to play war! Game over!\n",
      "Player two wins! Player one loses!\n"
     ]
    }
   ],
   "source": [
    "#Game Steup\n",
    "player_one = Player('One')\n",
    "player_two = Player('Two')\n",
    "\n",
    "new_deck = Deck()\n",
    "new_deck.shuffle()\n",
    "#It is the cards in player's hand\n",
    "for x in range (26):\n",
    "    player_one.add_cards(new_deck.deal_one())\n",
    "    player_two.add_cards(new_deck.deal_one())\n",
    "    \n",
    "game_on = True\n",
    "round_num = 0\n",
    "while game_on:\n",
    "    round_num = round_num + 1\n",
    "    print(f\"Round {round_num} \")\n",
    "    \n",
    "    #CHeck to see if a player is out of cards\n",
    "    if len(player_one.all_cards)==0:\n",
    "        print(\"Player one out of cards!! Game Over\")\n",
    "        print(\"Player Two Wins!\")\n",
    "        game_on = False\n",
    "        break\n",
    "    elif len(player_two.all_cards)==0:\n",
    "        print(\"Player two out of cards!! Game Over\")\n",
    "        print(\"Player One Wins!\")\n",
    "        game_on = False\n",
    "        break\n",
    "    #otherwise the game is still on :\n",
    "    #Start the game and reset the current cards \n",
    "    # It is for playing onthe table\n",
    "    player_one_cards =[]\n",
    "    player_two_cards =[]\n",
    "    player_one_cards.append(player_one.remove_one())\n",
    "    player_two_cards.append(player_two.remove_one())\n",
    "    at_war = True\n",
    "    while at_war:\n",
    "        if player_one_cards[-1].values > player_two_cards[-1].values:\n",
    "            #Player one get the cards \n",
    "            player_one.add_cards(player_one_cards)\n",
    "            player_one.add_cards(player_two_cards)\n",
    "            at_war = False\n",
    "        \n",
    "        elif player_one_cards[-1].values < player_two_cards[-1].values:\n",
    "            player_two.add_cards(player_one_cards)\n",
    "            player_two.add_cards(player_two_cards)\n",
    "            at_war = False\n",
    "        \n",
    "        else:\n",
    "            print('WAR')\n",
    "            if len(player_one.all_cards) < 5:\n",
    "                print(\"PLayer one unable to play war! Game over!\")\n",
    "                print(\"Player two wins! Player one loses!\")\n",
    "                game_on = False\n",
    "                break\n",
    "            elif len(player_two.all_cards) < 5:\n",
    "                print(\"PLayer two unable to play war! Game over!\")\n",
    "                print(\"Player one wins! Player two loses!\")\n",
    "                game_on = False\n",
    "                break\n",
    "            else:\n",
    "                for num in range(5):\n",
    "                    player_one_cards.append(player_one.remove_one())\n",
    "                    player_two_cards.append(player_two.remove_one())"
   ]
  },
  {
   "cell_type": "code",
   "execution_count": null,
   "id": "ebf20a53",
   "metadata": {},
   "outputs": [],
   "source": []
  }
 ],
 "metadata": {
  "kernelspec": {
   "display_name": "Python 3 (ipykernel)",
   "language": "python",
   "name": "python3"
  },
  "language_info": {
   "codemirror_mode": {
    "name": "ipython",
    "version": 3
   },
   "file_extension": ".py",
   "mimetype": "text/x-python",
   "name": "python",
   "nbconvert_exporter": "python",
   "pygments_lexer": "ipython3",
   "version": "3.9.13"
  }
 },
 "nbformat": 4,
 "nbformat_minor": 5
}
